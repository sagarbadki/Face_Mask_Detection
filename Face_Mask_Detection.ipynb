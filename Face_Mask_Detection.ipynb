{
  "nbformat": 4,
  "nbformat_minor": 0,
  "metadata": {
    "colab": {
      "name": "Face_Mask_Detection.ipynb",
      "provenance": [],
      "collapsed_sections": []
    },
    "kernelspec": {
      "name": "python3",
      "display_name": "Python 3"
    },
    "accelerator": "GPU"
  },
  "cells": [
    {
      "cell_type": "markdown",
      "metadata": {
        "id": "oC74hsy_cMeu",
        "colab_type": "text"
      },
      "source": [
        "## Prerequisites:\n",
        "1] Download the Dataset from the below link which includes two folders, where there is a mask and without mask images in each folder respectively.\n",
        "https://drive.google.com/drive/folders/1MjRmySJO1hHFAMT69f4M53hWjUUVHZPA?usp=sharing\n"
      ]
    },
    {
      "cell_type": "code",
      "metadata": {
        "id": "-x0wy794c0rY",
        "colab_type": "code",
        "colab": {}
      },
      "source": [
        "from tensorflow.keras.preprocessing.image import ImageDataGenerator\n",
        "from tensorflow.keras.applications import MobileNetV2\n",
        "from tensorflow.keras.layers import AveragePooling2D\n",
        "from tensorflow.keras.layers import Dropout\n",
        "from tensorflow.keras.layers import Flatten\n",
        "from tensorflow.keras.layers import Dense\n",
        "from tensorflow.keras.layers import Input\n",
        "from tensorflow.keras.models import Model\n",
        "from tensorflow.keras.optimizers import Adam\n",
        "from tensorflow.keras.applications.mobilenet_v2 import preprocess_input\n",
        "from tensorflow.keras.preprocessing.image import img_to_array\n",
        "from tensorflow.keras.preprocessing.image import load_img\n",
        "from tensorflow.keras.utils import to_categorical\n",
        "from sklearn.preprocessing import LabelBinarizer\n",
        "from sklearn.model_selection import train_test_split\n",
        "from imutils import paths\n",
        "import matplotlib.pyplot as plt\n",
        "import numpy as np\n",
        "import os"
      ],
      "execution_count": null,
      "outputs": []
    },
    {
      "cell_type": "code",
      "metadata": {
        "id": "Ypuhc25NdgZl",
        "colab_type": "code",
        "colab": {
          "base_uri": "https://localhost:8080/",
          "height": 71
        },
        "outputId": "fbba7d03-1229-4df4-dc86-0ccfffa00fab"
      },
      "source": [
        "imagePaths = list(paths.list_images('/content/drive/My Drive/dataset'))\n",
        "data = []\n",
        "labels = []\n",
        "# loop over the image paths\n",
        "for imagePath in imagePaths:\n",
        "\t# extract the class label from the filename\n",
        "\tlabel = imagePath.split(os.path.sep)[-2]\n",
        "\t# load the input image (224x224) and preprocess it\n",
        "\timage = load_img(imagePath, target_size=(224, 224))\n",
        "\timage = img_to_array(image)\n",
        "\timage = preprocess_input(image)\n",
        "\t# update the data and labels lists, respectively\n",
        "\tdata.append(image)\n",
        "\tlabels.append(label)\n",
        "# convert the data and labels to NumPy arrays\n",
        "data = np.array(data, dtype=\"float32\")\n",
        "labels = np.array(labels)"
      ],
      "execution_count": null,
      "outputs": [
        {
          "output_type": "stream",
          "text": [
            "/usr/local/lib/python3.6/dist-packages/PIL/Image.py:932: UserWarning: Palette images with Transparency expressed in bytes should be converted to RGBA images\n",
            "  \"Palette images with Transparency expressed in bytes should be \"\n"
          ],
          "name": "stderr"
        }
      ]
    },
    {
      "cell_type": "code",
      "metadata": {
        "id": "40lN_ceaikJJ",
        "colab_type": "code",
        "colab": {
          "base_uri": "https://localhost:8080/",
          "height": 51
        },
        "outputId": "331790cd-8ae0-42a4-8159-c1a024764836"
      },
      "source": [
        "print(len(data))\n",
        "print(len(labels))"
      ],
      "execution_count": null,
      "outputs": [
        {
          "output_type": "stream",
          "text": [
            "3833\n",
            "3833\n"
          ],
          "name": "stdout"
        }
      ]
    },
    {
      "cell_type": "markdown",
      "metadata": {
        "id": "MbfJOwGTeEFt",
        "colab_type": "text"
      },
      "source": [
        "## Train MobileNet Model"
      ]
    },
    {
      "cell_type": "code",
      "metadata": {
        "id": "ynY5JUC7drTe",
        "colab_type": "code",
        "colab": {
          "base_uri": "https://localhost:8080/",
          "height": 71
        },
        "outputId": "d7fe0045-7a1f-48a2-ce93-4917344bcccd"
      },
      "source": [
        "baseModel = MobileNetV2(weights=\"imagenet\", include_top=False,\n",
        "\tinput_shape=(224, 224, 3))\n",
        "# construct the head of the model that will be placed on top of the\n",
        "# the base model\n",
        "headModel = baseModel.output\n",
        "headModel = AveragePooling2D(pool_size=(7, 7))(headModel)\n",
        "headModel = Flatten(name=\"flatten\")(headModel)\n",
        "headModel = Dense(128, activation=\"relu\")(headModel)\n",
        "headModel = Dropout(0.5)(headModel)\n",
        "headModel = Dense(2, activation=\"softmax\")(headModel)\n",
        "\n",
        "# place the head FC model on top of the base model (this will become\n",
        "# the actual model we will train)\n",
        "model = Model(inputs=baseModel.input, outputs=headModel)\n",
        "# loop over all layers in the base model and freeze them so they will\n",
        "# *not* be updated during the first training process\n",
        "for layer in baseModel.layers:\n",
        "\tlayer.trainable = False"
      ],
      "execution_count": null,
      "outputs": [
        {
          "output_type": "stream",
          "text": [
            "Downloading data from https://storage.googleapis.com/tensorflow/keras-applications/mobilenet_v2/mobilenet_v2_weights_tf_dim_ordering_tf_kernels_1.0_224_no_top.h5\n",
            "9412608/9406464 [==============================] - 0s 0us/step\n"
          ],
          "name": "stdout"
        }
      ]
    },
    {
      "cell_type": "markdown",
      "metadata": {
        "id": "TeMoublVeN_a",
        "colab_type": "text"
      },
      "source": [
        "## Label Encoding and Data Augmentation\n"
      ]
    },
    {
      "cell_type": "code",
      "metadata": {
        "id": "Iain_TdTizUX",
        "colab_type": "code",
        "colab": {}
      },
      "source": [
        "lb = LabelBinarizer()\n",
        "labels = lb.fit_transform(labels)\n",
        "labels = to_categorical(labels)\n",
        "# partition the data into training and testing splits using 80% of\n",
        "# the data for training and the remaining 20% for testing\n",
        "(trainX, testX, trainY, testY) = train_test_split(data, labels,\n",
        "\ttest_size=0.20, stratify=labels, random_state=42)\n",
        "# construct the training image generator for data augmentation\n",
        "aug = ImageDataGenerator(\n",
        "\trotation_range=20,\n",
        "\tzoom_range=0.15,\n",
        "\twidth_shift_range=0.2,\n",
        "\theight_shift_range=0.2,\n",
        "\tshear_range=0.15,\n",
        "\thorizontal_flip=True,\n",
        "\tfill_mode=\"nearest\")"
      ],
      "execution_count": null,
      "outputs": []
    },
    {
      "cell_type": "code",
      "metadata": {
        "id": "vMtV03U9i5fW",
        "colab_type": "code",
        "colab": {
          "base_uri": "https://localhost:8080/",
          "height": 751
        },
        "outputId": "154ea7e7-a773-4ef7-b623-9b564a4d7545"
      },
      "source": [
        "INIT_LR = 1e-4\n",
        "EPOCHS = 20\n",
        "BS = 32\n",
        "print(\"[INFO] compiling model...\")\n",
        "opt = Adam(lr=INIT_LR, decay=INIT_LR / EPOCHS)\n",
        "model.compile(loss=\"binary_crossentropy\", optimizer=opt,\n",
        "\tmetrics=[\"accuracy\"])\n",
        "# train the head of the network\n",
        "print(\"[INFO] training head...\")\n",
        "H = model.fit(\n",
        "\taug.flow(trainX, trainY, batch_size=BS),\n",
        "\tsteps_per_epoch=len(trainX) // BS,\n",
        "\tvalidation_data=(testX, testY),\n",
        "\tvalidation_steps=len(testX) // BS,\n",
        "\tepochs=EPOCHS)"
      ],
      "execution_count": null,
      "outputs": [
        {
          "output_type": "stream",
          "text": [
            "[INFO] compiling model...\n",
            "[INFO] training head...\n",
            "Epoch 1/20\n",
            "95/95 [==============================] - 35s 366ms/step - loss: 0.3414 - accuracy: 0.8464 - val_loss: 0.1138 - val_accuracy: 0.9661\n",
            "Epoch 2/20\n",
            "95/95 [==============================] - 34s 355ms/step - loss: 0.1138 - accuracy: 0.9591 - val_loss: 0.0696 - val_accuracy: 0.9778\n",
            "Epoch 3/20\n",
            "95/95 [==============================] - 34s 355ms/step - loss: 0.0840 - accuracy: 0.9726 - val_loss: 0.0566 - val_accuracy: 0.9804\n",
            "Epoch 4/20\n",
            "95/95 [==============================] - 34s 355ms/step - loss: 0.0735 - accuracy: 0.9726 - val_loss: 0.0482 - val_accuracy: 0.9831\n",
            "Epoch 5/20\n",
            "95/95 [==============================] - 34s 357ms/step - loss: 0.0577 - accuracy: 0.9776 - val_loss: 0.0433 - val_accuracy: 0.9844\n",
            "Epoch 6/20\n",
            "95/95 [==============================] - 34s 358ms/step - loss: 0.0448 - accuracy: 0.9852 - val_loss: 0.0398 - val_accuracy: 0.9857\n",
            "Epoch 7/20\n",
            "95/95 [==============================] - 34s 358ms/step - loss: 0.0380 - accuracy: 0.9875 - val_loss: 0.0418 - val_accuracy: 0.9857\n",
            "Epoch 8/20\n",
            "95/95 [==============================] - 34s 357ms/step - loss: 0.0428 - accuracy: 0.9848 - val_loss: 0.0396 - val_accuracy: 0.9870\n",
            "Epoch 9/20\n",
            "95/95 [==============================] - 34s 357ms/step - loss: 0.0403 - accuracy: 0.9875 - val_loss: 0.0371 - val_accuracy: 0.9870\n",
            "Epoch 10/20\n",
            "95/95 [==============================] - 34s 361ms/step - loss: 0.0340 - accuracy: 0.9868 - val_loss: 0.0380 - val_accuracy: 0.9870\n",
            "Epoch 11/20\n",
            "95/95 [==============================] - 33s 351ms/step - loss: 0.0333 - accuracy: 0.9901 - val_loss: 0.0323 - val_accuracy: 0.9883\n",
            "Epoch 12/20\n",
            "95/95 [==============================] - 34s 355ms/step - loss: 0.0372 - accuracy: 0.9858 - val_loss: 0.0346 - val_accuracy: 0.9896\n",
            "Epoch 13/20\n",
            "95/95 [==============================] - 34s 354ms/step - loss: 0.0318 - accuracy: 0.9898 - val_loss: 0.0343 - val_accuracy: 0.9883\n",
            "Epoch 14/20\n",
            "95/95 [==============================] - 34s 357ms/step - loss: 0.0368 - accuracy: 0.9875 - val_loss: 0.0409 - val_accuracy: 0.9857\n",
            "Epoch 15/20\n",
            "95/95 [==============================] - 34s 354ms/step - loss: 0.0253 - accuracy: 0.9911 - val_loss: 0.0341 - val_accuracy: 0.9883\n",
            "Epoch 16/20\n",
            "95/95 [==============================] - 34s 357ms/step - loss: 0.0361 - accuracy: 0.9888 - val_loss: 0.0319 - val_accuracy: 0.9896\n",
            "Epoch 17/20\n",
            "95/95 [==============================] - 34s 356ms/step - loss: 0.0281 - accuracy: 0.9904 - val_loss: 0.0337 - val_accuracy: 0.9896\n",
            "Epoch 18/20\n",
            "95/95 [==============================] - 34s 356ms/step - loss: 0.0274 - accuracy: 0.9901 - val_loss: 0.0369 - val_accuracy: 0.9870\n",
            "Epoch 19/20\n",
            "95/95 [==============================] - 34s 353ms/step - loss: 0.0244 - accuracy: 0.9921 - val_loss: 0.0302 - val_accuracy: 0.9896\n",
            "Epoch 20/20\n",
            "95/95 [==============================] - 34s 355ms/step - loss: 0.0234 - accuracy: 0.9924 - val_loss: 0.0309 - val_accuracy: 0.9896\n"
          ],
          "name": "stdout"
        }
      ]
    },
    {
      "cell_type": "markdown",
      "metadata": {
        "id": "oELOD3oxeglI",
        "colab_type": "text"
      },
      "source": [
        "as we can see, we got almost 100% accuracy "
      ]
    },
    {
      "cell_type": "code",
      "metadata": {
        "id": "S69Wrrt3i_xj",
        "colab_type": "code",
        "colab": {
          "base_uri": "https://localhost:8080/",
          "height": 393
        },
        "outputId": "b98028b0-098d-45f6-b462-4ec120f4684f"
      },
      "source": [
        "N = EPOCHS\n",
        "plt.style.use(\"seaborn\")\n",
        "plt.figure()\n",
        "plt.plot(np.arange(0, N), H.history[\"loss\"], label=\"train_loss\")\n",
        "plt.plot(np.arange(0, N), H.history[\"val_loss\"], label=\"val_loss\")\n",
        "plt.plot(np.arange(0, N), H.history[\"accuracy\"], label=\"train_acc\")\n",
        "plt.plot(np.arange(0, N), H.history[\"val_accuracy\"], label=\"val_acc\")\n",
        "plt.title(\"Training Loss and Accuracy\")\n",
        "plt.xlabel(\"Epoch #\")\n",
        "plt.ylabel(\"Loss/Accuracy\")\n",
        "plt.legend(loc=\"lower left\")"
      ],
      "execution_count": null,
      "outputs": [
        {
          "output_type": "execute_result",
          "data": {
            "text/plain": [
              "<matplotlib.legend.Legend at 0x7f8b2d1bfba8>"
            ]
          },
          "metadata": {
            "tags": []
          },
          "execution_count": 9
        },
        {
          "output_type": "display_data",
          "data": {
            "image/png": "[encoded data removed]",
            "text/plain": [
              "<Figure size 576x396 with 1 Axes>"
            ]
          },
          "metadata": {
            "tags": []
          }
        }
      ]
    },
    {
      "cell_type": "code",
      "metadata": {
        "id": "rxsR9D83jIJX",
        "colab_type": "code",
        "colab": {}
      },
      "source": [
        "#To save the trained model\n",
        "model.save('mask_recognition.h5')"
      ],
      "execution_count": null,
      "outputs": []
    },
    {
      "cell_type": "markdown",
      "metadata": {
        "id": "b-Q91PrbNv0b",
        "colab_type": "text"
      },
      "source": [
        "## Make Predictions"
      ]
    },
    {
      "cell_type": "markdown",
      "metadata": {
        "id": "mUc2RdR9N-SL",
        "colab_type": "text"
      },
      "source": [
        "### Required:\n",
        "1] haarcascade classifier or any face detection model\n",
        "\n",
        "2] Classifier which we saved above."
      ]
    },
    {
      "cell_type": "code",
      "metadata": {
        "id": "kluJifZzcDGE",
        "colab_type": "code",
        "colab": {}
      },
      "source": [
        "# cascade classfier for face detection download from https://github.com/opencv/opencv/blob/master/data/haarcascades/haarcascade_frontalface_default.xml\n",
        "cascPath = 'haarcascade_frontalface_default.xml'\n",
        "faceCascade = cv2.CascadeClassifier(cascPath)\n",
        "print('Classifier being loaded...')\n",
        "model = load_model(\"mask_recognition.h5\")\n",
        "print('model being loaded...')\n",
        "\n",
        "# choose your choice image or video\n",
        "image_path=''\n",
        "\n",
        "video_capture = cv2.VideoCapture(0)\n",
        "\n",
        "\n",
        "if image_path!='':\n",
        "    frame=cv2.imread(image_path)\n",
        "    gray = cv2.cvtColor(frame, cv2.COLOR_BGR2GRAY)\n",
        "    faces = faceCascade.detectMultiScale(gray,scaleFactor=1.1,\n",
        "                                         minNeighbors=5,\n",
        "                                         minSize=(60, 60),flags=cv2.CASCADE_SCALE_IMAGE)\n",
        "\n",
        "    for (x, y, w, h) in faces:\n",
        "            face_frame = frame[y:y+h,x:x+w]\n",
        "            face_frame = cv2.cvtColor(face_frame, cv2.COLOR_BGR2RGB)\n",
        "            face_frame = cv2.resize(face_frame, (224, 224))\n",
        "            face_frame = img_to_array(face_frame)\n",
        "            face_frame = np.expand_dims(face_frame, axis=0)\n",
        "            face_frame =  preprocess_input(face_frame)\n",
        "            mask,withoutMask = model.predict(face_frame)[0]\n",
        "\n",
        "            label = \"Mask\" if mask > withoutMask else \"No Mask\"\n",
        "            color = (0, 255, 0) if label == \"Mask\" else (0, 0, 255)\n",
        "            label = \"{}: {:.2f}%\".format(label, max(mask, withoutMask) * 100)\n",
        "            cv2.putText(frame, label, (x, y- 10),\n",
        "                        cv2.FONT_HERSHEY_SIMPLEX, 0.45, color, 2)\n",
        "\n",
        "            cv2.rectangle(frame, (x, y), (x + w, y + h),color, 2)\n",
        "            # Display the resulting frame\n",
        "            cv2.imshow('Video', frame)\n",
        "            key=cv2.waitKey(0)\n",
        "            if key==ord('q'):\n",
        "                break\n",
        "\n",
        "    cv2.destroyAllWindows()\n",
        "\n",
        "else:\n",
        "    while True:\n",
        "    # Capture frame-by-frame\n",
        "    \n",
        "        ret, frame = video_capture.read()\n",
        "        frame=frame.astype('uint8')\n",
        "        gray = cv2.cvtColor(frame, cv2.COLOR_BGR2GRAY)\n",
        "        faces = faceCascade.detectMultiScale(gray,\n",
        "                                             scaleFactor=1.1,\n",
        "                                             minNeighbors=5,\n",
        "                                             minSize=(60, 60),flags=cv2.CASCADE_SCALE_IMAGE)\n",
        "        \n",
        "        faces_list=[]\n",
        "        preds=[]\n",
        "        for (x, y, w, h) in faces:\n",
        "            face_frame = frame[y:y+h,x:x+w]\n",
        "            face_frame = cv2.cvtColor(face_frame, cv2.COLOR_BGR2RGB)\n",
        "            face_frame = cv2.resize(face_frame, (224, 224))\n",
        "            face_frame = img_to_array(face_frame)\n",
        "            face_frame = np.expand_dims(face_frame, axis=0)\n",
        "            face_frame =  preprocess_input(face_frame)\n",
        "            faces_list.append(face_frame)\n",
        "            if len(faces_list)>0:\n",
        "                preds = model.predict(faces_list)\n",
        "            for pred in preds:\n",
        "                (mask, withoutMask) = pred\n",
        "                label = \"Mask\" if mask > withoutMask else \"No Mask\"\n",
        "                color = (0, 255, 0) if label == \"Mask\" else (0, 0, 255)\n",
        "                label = \"{}: {:.2f}%\".format(label, max(mask, withoutMask) * 100)\n",
        "                cv2.putText(frame, label, (x, y- 10),cv2.FONT_HERSHEY_SIMPLEX, 0.45, color, 2)\n",
        "\n",
        "                cv2.rectangle(frame, (x, y), (x + w, y + h),color, 2)\n",
        "             # Display the resulting frame\n",
        "                cv2.imshow('Video', frame)\n",
        "                key=cv2.waitKey(1)\n",
        "                if key==ord('q'):\n",
        "                    break\n",
        "\n",
        "        \n",
        "    video_capture.release()\n",
        "\n",
        "    cv2.destroyAllWindows()"
      ],
      "execution_count": null,
      "outputs": []
    }
  ]
}